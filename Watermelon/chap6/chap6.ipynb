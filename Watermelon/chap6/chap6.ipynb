{
 "cells": [
  {
   "cell_type": "code",
   "execution_count": 1,
   "metadata": {
    "collapsed": false
   },
   "outputs": [],
   "source": [
    "import numpy as np\n",
    "import pandas as pd\n",
    "import sklearn.svm\n",
    "import seaborn as sns\n",
    "\n",
    "from sklearn.model_selection import train_test_split\n",
    "%matplotlib inline"
   ]
  },
  {
   "cell_type": "markdown",
   "metadata": {},
   "source": [
    "### **6.2**: 使用libsvm,在西瓜数据集3.0a上分别用线性核和高斯核训练一个svm,并比较其支持向量的差别.  "
   ]
  },
  {
   "cell_type": "code",
   "execution_count": 2,
   "metadata": {
    "collapsed": false
   },
   "outputs": [
    {
     "data": {
      "text/plain": [
       "<matplotlib.axes._subplots.AxesSubplot at 0x7fc02171e208>"
      ]
     },
     "execution_count": 2,
     "metadata": {},
     "output_type": "execute_result"
    },
    {
     "data": {
      "image/png": "[encoded data removed]",
      "text/plain": [
       "<Figure size 432x288 with 1 Axes>"
      ]
     },
     "metadata": {},
     "output_type": "display_data"
    }
   ],
   "source": [
    "# 西瓜3.0a仅含有标签, 密度和含糖率  \n",
    "data = pd.read_csv('../data/watermelon3.0.csv')\n",
    "X = data[['density', 'sugar']]\n",
    "y = data['label'].values\n",
    "sns.scatterplot(x='density', y='sugar', hue='label', data=data)\n",
    "# 先来看看数据, 显然注意到它是线性不可分的"
   ]
  },
  {
   "cell_type": "code",
   "execution_count": 3,
   "metadata": {
    "collapsed": false
   },
   "outputs": [
    {
     "name": "stdout",
     "output_type": "stream",
     "text": [
      "线性SVM支持向量\n",
      "[[0.634 0.264]\n",
      " [0.608 0.318]\n",
      " [0.556 0.215]\n",
      " [0.403 0.237]\n",
      " [0.481 0.149]\n",
      " [0.437 0.211]\n",
      " [0.243 0.267]\n",
      " [0.343 0.099]\n",
      " [0.639 0.161]\n",
      " [0.657 0.198]\n",
      " [0.36  0.37 ]\n",
      " [0.719 0.103]]\n",
      "高斯SVM支持向量\n",
      "[[0.774 0.376]\n",
      " [0.403 0.237]\n",
      " [0.481 0.149]\n",
      " [0.343 0.099]\n",
      " [0.657 0.198]\n",
      " [0.36  0.37 ]]\n",
      "线性SVM预测: [0 0 0 0 0 0 1 0 1 0 1 1 1 1 0 1 1]\n",
      "高斯SVM预测: [0 0 0 0 0 0 0 0 1 1 1 1 1 1 1 1 1]\n",
      "实际标签值为: [0 0 0 0 0 0 0 0 1 1 1 1 1 1 1 1 1]\n"
     ]
    }
   ],
   "source": [
    "# 为了取得较好效果, 调大惩罚项系数降低经验风险\n",
    "linearSVModel = sklearn.svm.SVC(kernel='linear', C=5000)\n",
    "GaussianSVModel = sklearn.svm.SVC(kernel='rbf', C=5000)\n",
    "\n",
    "linearSVModel.fit(X, y)\n",
    "GaussianSVModel.fit(X, y)\n",
    "print('线性SVM支持向量')\n",
    "print(linearSVModel.support_vectors_)\n",
    "print('高斯SVM支持向量')\n",
    "print(GaussianSVModel.support_vectors_)\n",
    "print('线性SVM预测:', linearSVModel.predict(X))\n",
    "print('高斯SVM预测:',GaussianSVModel.predict(X))\n",
    "print('实际标签值为:', y)"
   ]
  },
  {
   "cell_type": "markdown",
   "metadata": {},
   "source": [
    "### **6.3** 选择两个UCI数据集,分别用线性核和高斯核训练一个SVM并与BP神经网络和C4.5决策树进行实验比较  \n",
    "\n",
    "选择car和audiology数据集, 其中car有7个特征,1728条记录; audiology有71个特征,200条记录.   \n",
    "之前第5章BP神经网络由于没有做UCI数据集的实验,这里就偷懒不比较了,把决策树的数据直接拿来.  \n",
    "\n",
    "回顾一下C4.5在audiology数据上的表现\n",
    "\n",
    "|训练集/测试集acc|Gini指数|信息增益|\n",
    "|--|--|--|\n",
    "|不剪枝|1/0.214|0.836/0.205|\n",
    "|预剪枝|1/0.230|1/0.156|\n",
    "|后剪枝|1/0.245|1/0.063|  \n",
    "可以发现不管什么设置都有严重的过拟合, 因为该数据的量太小而类数过多.  \n",
    "\n",
    "在Car数据集上,C4.5表现就好得多:  \n",
    "\n",
    "|训练集/测试集acc|Gini指数|信息增益|\n",
    "|--|--|--|\n",
    "|不剪枝|0.814/0.790|0.836/0.0.844|\n",
    "|预剪枝|0.841/0.835|0.839/0.828|\n",
    "|后剪枝|0.821/0.775|0.831/0.795|     \n"
   ]
  },
  {
   "cell_type": "code",
   "execution_count": 4,
   "metadata": {
    "collapsed": false
   },
   "outputs": [],
   "source": [
    "audata = pd.read_csv('../data/audiology.csv')\n",
    "cardata = pd.read_csv('../data/car.csv')\n",
    "datasets = {\n",
    "            'audiology data': audata,\n",
    "            'car data': cardata\n",
    "            }"
   ]
  },
  {
   "cell_type": "code",
   "execution_count": 5,
   "metadata": {
    "collapsed": false,
    "scrolled": true
   },
   "outputs": [
    {
     "name": "stdout",
     "output_type": "stream",
     "text": [
      "car data \n",
      "\n",
      "Model:   linearSVModel\n",
      "Acc in training set:  0.731548480463097\n",
      "Acc in val set:  0.7109826589595376 \n",
      "\n",
      "Model:   GaussianSVModel\n",
      "Acc in training set:  0.9985528219971056\n",
      "Acc in val set:  0.9913294797687862 \n",
      "\n",
      "\n",
      "\n",
      "audiology data \n",
      "\n",
      "Model:   linearSVModel\n",
      "Acc in training set:  1.0\n",
      "Acc in val set:  0.8 \n",
      "\n",
      "Model:   GaussianSVModel\n",
      "Acc in training set:  0.9875\n",
      "Acc in val set:  0.45 \n",
      "\n",
      "\n",
      "\n"
     ]
    }
   ],
   "source": [
    "# 两个数据集x两个模型实验  \n",
    "linearSVModel = sklearn.svm.SVC(kernel='linear', C=10)\n",
    "GaussianSVModel = sklearn.svm.SVC(kernel='rbf', C=10)\n",
    "\n",
    "for name, data in datasets.items():\n",
    "    print(name, '\\n')\n",
    "    X = data.loc[: , data.columns != 'label']\n",
    "    y = data['label']\n",
    "    X_train, X_val, y_train, y_val = train_test_split(X, y, test_size=0.2, random_state=16)\n",
    "    for model in ['linearSVModel', 'GaussianSVModel']:\n",
    "        \n",
    "        print('Model:  ', model)\n",
    "        clf = eval(model)\n",
    "        clf.fit(X_train, y_train)\n",
    "        acc_train = np.sum(clf.predict(X_train) == y_train) / len(y_train)\n",
    "        acc_val = np.sum(clf.predict(X_val) == y_val) / len(y_val)\n",
    "        print('Acc in training set: ', acc_train)\n",
    "        print('Acc in val set: ', acc_val, '\\n')\n",
    "    print('\\n')\n"
   ]
  },
  {
   "cell_type": "markdown",
   "metadata": {},
   "source": [
    "\n",
    "### **6.8** 以西瓜数据集3.0a的密度为输入,含糖率为输出,试使用LIBSVM训练一个SVR.   \n",
    "虽然这个单维输入单维输出的问题用SVR做出来不是很好看, 不过还是写一下吧."
   ]
  },
  {
   "cell_type": "code",
   "execution_count": 8,
   "metadata": {
    "collapsed": false
   },
   "outputs": [],
   "source": [
    "data = pd.read_csv('../data/watermelon3.0.csv')\n",
    "X = data['density'].values.reshape((data.shape[0], 1))\n",
    "y = data['sugar']"
   ]
  },
  {
   "cell_type": "code",
   "execution_count": 9,
   "metadata": {
    "collapsed": false
   },
   "outputs": [
    {
     "name": "stdout",
     "output_type": "stream",
     "text": [
      "RMSE:  0.47086558915157345\n"
     ]
    }
   ],
   "source": [
    "clf = sklearn.svm.SVR()\n",
    "clf.fit(X, y)\n",
    "print('RMSE: ', np.sqrt(np.sum(np.square(clf.predict(X) - y))))"
   ]
  }
 ],
 "metadata": {
  "anaconda-cloud": {},
  "kernelspec": {
   "display_name": "Python [conda root]",
   "language": "python",
   "name": "conda-root-py"
  },
  "language_info": {
   "codemirror_mode": {
    "name": "ipython",
    "version": 3
   },
   "file_extension": ".py",
   "mimetype": "text/x-python",
   "name": "python",
   "nbconvert_exporter": "python",
   "pygments_lexer": "ipython3",
   "version": "3.5.2"
  }
 },
 "nbformat": 4,
 "nbformat_minor": 1
}
