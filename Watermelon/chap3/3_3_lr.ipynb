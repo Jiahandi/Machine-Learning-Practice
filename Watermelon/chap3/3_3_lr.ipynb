{
 "cells": [
  {
   "cell_type": "code",
   "execution_count": 58,
   "metadata": {
    "collapsed": true
   },
   "outputs": [],
   "source": [
    "import numpy as np\n",
    "import pandas as pd\n",
    "\n",
    "MaxIter = 500"
   ]
  },
  {
   "cell_type": "code",
   "execution_count": 59,
   "metadata": {
    "collapsed": true
   },
   "outputs": [],
   "source": [
    "def read_data(file='./dataAlpha.csv'):\n",
    "    data = pd.read_csv(file, sep=',', header=None)\n",
    "    X = data[[0, 1]]\n",
    "    X.insert(2, 2, 1)\n",
    "    y = data[2]\n",
    "    return X, y"
   ]
  },
  {
   "cell_type": "code",
   "execution_count": 60,
   "metadata": {
    "collapsed": true
   },
   "outputs": [],
   "source": [
    "def init_parameter(d):\n",
    "    w = np.random.randn(d)\n",
    "    return w\n"
   ]
  },
  {
   "cell_type": "code",
   "execution_count": 61,
   "metadata": {
    "collapsed": true
   },
   "outputs": [],
   "source": [
    "def predict(w, x):\n",
    "    t = np.exp(X.dot(w))\n",
    "    return (t / (1 + t)) > 0.5"
   ]
  },
  {
   "cell_type": "code",
   "execution_count": 62,
   "metadata": {
    "collapsed": true
   },
   "outputs": [],
   "source": [
    "def cost_function(w, X, y):\n",
    "    T = X.dot(w)\n",
    "    cost = - np.sum(y*T - np.log(1 + np.exp(T)))\n",
    "    return cost"
   ]
  },
  {
   "cell_type": "code",
   "execution_count": 63,
   "metadata": {
    "collapsed": true
   },
   "outputs": [],
   "source": [
    "def cal_grad(w, X, y):\n",
    "    T = np.exp(X.dot(w))\n",
    "    Z = T / (1 + T)\n",
    "    dw = (y - Z).dot(X)\n",
    "    return dw"
   ]
  },
  {
   "cell_type": "code",
   "execution_count": 64,
   "metadata": {
    "collapsed": false
   },
   "outputs": [],
   "source": [
    "def logReg(eta=0.1):\n",
    "    X, y = read_data()\n",
    "    w = init_parameter(X.shape[1])\n",
    "    for i in range(MaxIter):\n",
    "        if (i % 100 == 0):\n",
    "            print(i, cost_function(w, X, y))\n",
    "        dw = cal_grad(w, X, y)\n",
    "        w = w + eta * dw\n",
    "    return w"
   ]
  },
  {
   "cell_type": "code",
   "execution_count": 65,
   "metadata": {
    "collapsed": false
   },
   "outputs": [
    {
     "name": "stdout",
     "output_type": "stream",
     "text": [
      "0 12.845093813799526\n",
      "100 10.038805881042618\n",
      "200 9.334747439012219\n",
      "300 9.03388747054196\n",
      "400 8.885143921279537\n"
     ]
    }
   ],
   "source": [
    "w = logReg()"
   ]
  },
  {
   "cell_type": "code",
   "execution_count": 66,
   "metadata": {
    "collapsed": false
   },
   "outputs": [
    {
     "data": {
      "text/plain": [
       "0      True\n",
       "1      True\n",
       "2      True\n",
       "3      True\n",
       "4     False\n",
       "5     False\n",
       "6     False\n",
       "7     False\n",
       "8     False\n",
       "9     False\n",
       "10    False\n",
       "11    False\n",
       "12    False\n",
       "13     True\n",
       "14     True\n",
       "15    False\n",
       "16    False\n",
       "dtype: bool"
      ]
     },
     "execution_count": 66,
     "metadata": {},
     "output_type": "execute_result"
    }
   ],
   "source": [
    "predict(w, X)"
   ]
  }
 ],
 "metadata": {
  "kernelspec": {
   "display_name": "Python [conda root]",
   "language": "python",
   "name": "conda-root-py"
  },
  "language_info": {
   "codemirror_mode": {
    "name": "ipython",
    "version": 3
   },
   "file_extension": ".py",
   "mimetype": "text/x-python",
   "name": "python",
   "nbconvert_exporter": "python",
   "pygments_lexer": "ipython3",
   "version": "3.5.2"
  }
 },
 "nbformat": 4,
 "nbformat_minor": 1
}
