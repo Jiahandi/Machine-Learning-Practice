{
 "cells": [
  {
   "cell_type": "code",
   "execution_count": 69,
   "metadata": {
    "collapsed": true
   },
   "outputs": [],
   "source": [
    "import numpy as np\n",
    "import pandas as pd\n",
    "\n"
   ]
  },
  {
   "cell_type": "code",
   "execution_count": 71,
   "metadata": {
    "collapsed": true
   },
   "outputs": [],
   "source": [
    "def read_data(file='./dataAlpha.csv'):\n",
    "    data = pd.read_csv(file, sep=',', header=None)\n",
    "    X = data[[0, 1]]\n",
    "    y = data[2]\n",
    "    return X, y"
   ]
  },
  {
   "cell_type": "code",
   "execution_count": 93,
   "metadata": {
    "collapsed": true
   },
   "outputs": [],
   "source": [
    "def get_paras(X, y):\n",
    "    m0 = X[y == 0].mean()\n",
    "    m1 = X[y == 1].mean()\n",
    "    sw = np.matrix( (X - m0).T.dot(X - m0) + (X - m1).T.dot(X - m1) )\n",
    "    w = sw.I.dot((m0 - m1))\n",
    "    return w, m0, m1\n",
    "\n",
    "    "
   ]
  },
  {
   "cell_type": "code",
   "execution_count": 94,
   "metadata": {
    "collapsed": false
   },
   "outputs": [],
   "source": [
    "def lda():\n",
    "    X, y = read_data()\n",
    "    w, m0, m1 = get_paras(X, y)\n",
    "    edge = (w.dot(m0) + w.dot(m1)) / 2\n",
    "    return w.dot(X.T) < edge"
   ]
  },
  {
   "cell_type": "code",
   "execution_count": 95,
   "metadata": {
    "collapsed": false
   },
   "outputs": [
    {
     "data": {
      "text/plain": [
       "matrix([[ True,  True,  True,  True,  True, False, False, False, False,\n",
       "         False, False, False, False,  True,  True, False, False]], dtype=bool)"
      ]
     },
     "execution_count": 95,
     "metadata": {},
     "output_type": "execute_result"
    }
   ],
   "source": [
    "lda()"
   ]
  }
 ],
 "metadata": {
  "anaconda-cloud": {},
  "kernelspec": {
   "display_name": "Python [conda root]",
   "language": "python",
   "name": "conda-root-py"
  },
  "language_info": {
   "codemirror_mode": {
    "name": "ipython",
    "version": 3
   },
   "file_extension": ".py",
   "mimetype": "text/x-python",
   "name": "python",
   "nbconvert_exporter": "python",
   "pygments_lexer": "ipython3",
   "version": "3.5.2"
  }
 },
 "nbformat": 4,
 "nbformat_minor": 1
}
