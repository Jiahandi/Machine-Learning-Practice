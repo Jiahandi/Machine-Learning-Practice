{
 "cells": [
  {
   "cell_type": "markdown",
   "metadata": {},
   "source": [
    "# 函数装饰器与闭包  \n",
    "\n",
    "## 装饰器基础知识　　　\n",
    "\n",
    "装饰器是**可调用的对象,其参数是另一个函数(被装饰的函数)**. 装饰器可能会处理被装饰的函数并返回, 或者将其替换为另一个函数或者可调用对象.  \n",
    "\n",
    "例如,下面两段代码是等价的:  \n",
    "\n",
    "```py\n",
    "@decorate \n",
    "def target():\n",
    "    print('running target()')\n",
    "```  \n",
    "---分---割---线-----\n",
    "```py\n",
    "def target():\n",
    "    print('runing target()')\n",
    " \n",
    "target = decorate(target)\n",
    "```  \n",
    "\n",
    "我们实现一个简单的装饰器来说明一下:  "
   ]
  },
  {
   "cell_type": "code",
   "execution_count": 1,
   "metadata": {
    "collapsed": false
   },
   "outputs": [
    {
     "name": "stdout",
     "output_type": "stream",
     "text": [
      "你是猪\n"
     ]
    }
   ],
   "source": [
    "def deco(func):\n",
    "    def youarepig():\n",
    "        print('你是猪')\n",
    "    return youarepig\n",
    "\n",
    "@deco\n",
    "def target():\n",
    "    print('哈哈哈')  \n",
    "    \n",
    "target()\n"
   ]
  },
  {
   "cell_type": "markdown",
   "metadata": {},
   "source": [
    "可以发现, 调用`target`函数后, 打印出来的并不是'哈哈哈', 而是'你是猪', 这就是因为`deco`装饰器在中途掉包了这个函数.  \n",
    "当然装饰器是一种语法糖,但是它确实很好用, 其特性有二: \n",
    "\n",
    "+ 能把被装饰的函数替换为其他函数  \n",
    "+ 装饰器在加载模块时立即执行  \n",
    "\n",
    "所谓装饰器在加载时立即执行是指, 装饰器本身会被执行, 你用该装饰器装饰了几个函数就会被执行几次, 但是需要注意的是,被装饰的函数本身并不会被执行.\n",
    "\n",
    "### 利用装饰器改进策略模式  \n",
    "\n",
    "下面我们装饰器改进一下之前提到的电商促销折扣的代码, 这里的一个问题是,我们每次新增折扣策略的时候,可能会忘记将它加入策略列表中而造成错误, 利用装饰器可以这么写:  \n"
   ]
  },
  {
   "cell_type": "code",
   "execution_count": 2,
   "metadata": {
    "collapsed": true
   },
   "outputs": [],
   "source": [
    "# BEGIN STRATEGY_BEST4\n",
    "\n",
    "promos = []  # <1>\n",
    "\n",
    "def promotion(promo_func):  # <2>\n",
    "    promos.append(promo_func)\n",
    "    return promo_func\n",
    "\n",
    "@promotion  # <3>\n",
    "def fidelity(order):\n",
    "    \"\"\"5% discount for customers with 1000 or more fidelity points\"\"\"\n",
    "    return order.total() * .05 if order.customer.fidelity >= 1000 else 0\n",
    "\n",
    "@promotion\n",
    "def bulk_item(order):\n",
    "    \"\"\"10% discount for each LineItem with 20 or more units\"\"\"\n",
    "    discount = 0\n",
    "    for item in order.cart:\n",
    "        if item.quantity >= 20:\n",
    "            discount += item.total() * .1\n",
    "    return discount\n",
    "\n",
    "@promotion\n",
    "def large_order(order):\n",
    "    \"\"\"7% discount for orders with 10 or more distinct items\"\"\"\n",
    "    distinct_items = {item.product for item in order.cart}\n",
    "    if len(distinct_items) >= 10:\n",
    "        return order.total() * .07\n",
    "    return 0\n",
    "\n",
    "def best_promo(order):  # <4>\n",
    "    \"\"\"Select best discount available\n",
    "    \"\"\"\n",
    "    return max(promo(order) for promo in promos)"
   ]
  },
  {
   "cell_type": "markdown",
   "metadata": {},
   "source": [
    "我们定义一个会将传入的函数加入策略列表的装饰器, 并用该装饰器去装饰每个定义的策略.   \n",
    "\n",
    "当然, 通常我们使用装饰器时会改变传入的函数, 而不是仅仅将它原样返回, 为此我们需要先了解闭包和python的变量作用域.  \n",
    "\n",
    "## 变量作用域规则　　　\n",
    "\n",
    "python并不要求声明变量, 但是他会假定在函数定义体中的复制变量为局部变量. 即时之前定义了一个同名的全局变量, python解释器也会认为其为局部变量, 例如:\n"
   ]
  },
  {
   "cell_type": "code",
   "execution_count": 3,
   "metadata": {
    "collapsed": false
   },
   "outputs": [
    {
     "name": "stdout",
     "output_type": "stream",
     "text": [
      "3\n"
     ]
    },
    {
     "ename": "UnboundLocalError",
     "evalue": "local variable 'b' referenced before assignment",
     "output_type": "error",
     "traceback": [
      "\u001b[0;31m---------------------------------------------------------------------------\u001b[0m",
      "\u001b[0;31mUnboundLocalError\u001b[0m                         Traceback (most recent call last)",
      "\u001b[0;32m<ipython-input-3-7bc160830b6f>\u001b[0m in \u001b[0;36m<module>\u001b[0;34m()\u001b[0m\n\u001b[1;32m      6\u001b[0m     \u001b[0mb\u001b[0m \u001b[0;34m=\u001b[0m \u001b[0;36m9\u001b[0m\u001b[0;34m\u001b[0m\u001b[0m\n\u001b[1;32m      7\u001b[0m \u001b[0;34m\u001b[0m\u001b[0m\n\u001b[0;32m----> 8\u001b[0;31m \u001b[0mf\u001b[0m\u001b[0;34m(\u001b[0m\u001b[0;36m3\u001b[0m\u001b[0;34m)\u001b[0m\u001b[0;34m\u001b[0m\u001b[0m\n\u001b[0m",
      "\u001b[0;32m<ipython-input-3-7bc160830b6f>\u001b[0m in \u001b[0;36mf\u001b[0;34m(a)\u001b[0m\n\u001b[1;32m      3\u001b[0m \u001b[0;32mdef\u001b[0m \u001b[0mf\u001b[0m\u001b[0;34m(\u001b[0m\u001b[0ma\u001b[0m\u001b[0;34m)\u001b[0m\u001b[0;34m:\u001b[0m\u001b[0;34m\u001b[0m\u001b[0m\n\u001b[1;32m      4\u001b[0m     \u001b[0mprint\u001b[0m\u001b[0;34m(\u001b[0m\u001b[0ma\u001b[0m\u001b[0;34m)\u001b[0m\u001b[0;34m\u001b[0m\u001b[0m\n\u001b[0;32m----> 5\u001b[0;31m     \u001b[0mprint\u001b[0m\u001b[0;34m(\u001b[0m\u001b[0mb\u001b[0m\u001b[0;34m)\u001b[0m\u001b[0;34m\u001b[0m\u001b[0m\n\u001b[0m\u001b[1;32m      6\u001b[0m     \u001b[0mb\u001b[0m \u001b[0;34m=\u001b[0m \u001b[0;36m9\u001b[0m\u001b[0;34m\u001b[0m\u001b[0m\n\u001b[1;32m      7\u001b[0m \u001b[0;34m\u001b[0m\u001b[0m\n",
      "\u001b[0;31mUnboundLocalError\u001b[0m: local variable 'b' referenced before assignment"
     ]
    }
   ],
   "source": [
    "b = 6\n",
    "\n",
    "def f(a):\n",
    "    print(a)\n",
    "    print(b)\n",
    "    b = 9\n",
    "    \n",
    "f(3)"
   ]
  },
  {
   "cell_type": "markdown",
   "metadata": {},
   "source": [
    "上述代码中在`print(b)`的时候就会出错, 虽然之前已经给`b`赋过值, 但是由于`b`在`f`函数内出现过, 因此会被认为是局部变量, 要解决这个问题, 需要在函数`f`内部将b声明为global.  "
   ]
  },
  {
   "cell_type": "code",
   "execution_count": 4,
   "metadata": {
    "collapsed": false
   },
   "outputs": [
    {
     "name": "stdout",
     "output_type": "stream",
     "text": [
      "3\n",
      "6\n"
     ]
    }
   ],
   "source": [
    "b = 6\n",
    "\n",
    "def f(a):\n",
    "    global b\n",
    "    print(a)\n",
    "    print(b)\n",
    "    b = 9\n",
    "    \n",
    "f(3)"
   ]
  },
  {
   "cell_type": "markdown",
   "metadata": {},
   "source": [
    "## 闭包  \n",
    "\n",
    "闭包在python中指的是延伸了作用域的函数, 其中**包含函数定义体中引用,但是不在定义体中定义的非全局变量**.  \n",
    "听上去很拗口, 具体举个例子就容易明白了.下面定义一个高阶函数来计算序列的平均值.  "
   ]
  },
  {
   "cell_type": "code",
   "execution_count": 5,
   "metadata": {
    "collapsed": false
   },
   "outputs": [
    {
     "data": {
      "text/plain": [
       "10.0"
      ]
     },
     "execution_count": 5,
     "metadata": {},
     "output_type": "execute_result"
    }
   ],
   "source": [
    "def make_average():\n",
    "    series = []\n",
    "    \n",
    "    def averager(new_value):\n",
    "        series.append(new_value)\n",
    "        total = sum(series)\n",
    "        return total / len(series)\n",
    "    \n",
    "    return averager\n",
    "avg = make_average()\n",
    "avg(10)"
   ]
  },
  {
   "cell_type": "code",
   "execution_count": 6,
   "metadata": {
    "collapsed": false
   },
   "outputs": [
    {
     "data": {
      "text/plain": [
       "10.5"
      ]
     },
     "execution_count": 6,
     "metadata": {},
     "output_type": "execute_result"
    }
   ],
   "source": [
    "avg(11)"
   ]
  },
  {
   "cell_type": "code",
   "execution_count": 7,
   "metadata": {
    "collapsed": false
   },
   "outputs": [
    {
     "data": {
      "text/plain": [
       "11.0"
      ]
     },
     "execution_count": 7,
     "metadata": {},
     "output_type": "execute_result"
    }
   ],
   "source": [
    "avg(12)"
   ]
  },
  {
   "cell_type": "markdown",
   "metadata": {},
   "source": [
    "那么很好奇一点,当`make_average`返回`averager`函数后, 我们序列中的历史值是存在哪儿的呢?  \n",
    "观察`averager`函数中, `series`于它是一个自有变量, 即没有绑定在本地作用域的变量, 但是我们发现每次`avg`的时候它都能访问到该变量,我们审查一下该变量: "
   ]
  },
  {
   "cell_type": "code",
   "execution_count": 8,
   "metadata": {
    "collapsed": false
   },
   "outputs": [
    {
     "data": {
      "text/plain": [
       "('new_value', 'total')"
      ]
     },
     "execution_count": 8,
     "metadata": {},
     "output_type": "execute_result"
    }
   ],
   "source": [
    "avg.__code__.co_varnames"
   ]
  },
  {
   "cell_type": "code",
   "execution_count": 9,
   "metadata": {
    "collapsed": false
   },
   "outputs": [
    {
     "data": {
      "text/plain": [
       "('series',)"
      ]
     },
     "execution_count": 9,
     "metadata": {},
     "output_type": "execute_result"
    }
   ],
   "source": [
    "avg.__code__.co_freevars"
   ]
  },
  {
   "cell_type": "code",
   "execution_count": 10,
   "metadata": {
    "collapsed": false
   },
   "outputs": [
    {
     "data": {
      "text/plain": [
       "(<cell at 0x7f803f933dc8: list object at 0x7f803e859f88>,)"
      ]
     },
     "execution_count": 10,
     "metadata": {},
     "output_type": "execute_result"
    }
   ],
   "source": [
    "avg.__closure__"
   ]
  },
  {
   "cell_type": "code",
   "execution_count": 11,
   "metadata": {
    "collapsed": false
   },
   "outputs": [
    {
     "data": {
      "text/plain": [
       "[10, 11, 12]"
      ]
     },
     "execution_count": 11,
     "metadata": {},
     "output_type": "execute_result"
    }
   ],
   "source": [
    "avg.__closure__[0].cell_contents"
   ]
  },
  {
   "cell_type": "markdown",
   "metadata": {},
   "source": [
    "可以发现, `series`以自由变量的形式保存在`__closure__`属性中. `avg.__closure__`的各个元素对应于`avg.__code__.co_freevars`中的一个名称, 这些元素是`cell`对象, 有一个`cell_contents`对象其中保存着真实的值.    \n",
    "\n",
    "现在回头看这个averager, 可以发现我们其实只用到了这些数的和和计数, 而不用整个数值列表, 很自然想到做以下修改:  \n",
    "\n",
    "```py\n",
    "def make_average():\n",
    "    count = 0\n",
    "    total = 0\n",
    "    \n",
    "    def averager(new_value):\n",
    "        count += 1\n",
    "        total += new_value\n",
    "        return total / count\n",
    "    \n",
    "    return averager\n",
    "\n",
    "```\n",
    "\n",
    "但是这么写会有有问题, 原因在于, `averager`里对`count`赋值了,这会将其变成一个局部变量, 而不再是自由变量, 此时我们需要将其加上一个`nonlocal`声明.  \n"
   ]
  },
  {
   "cell_type": "code",
   "execution_count": 12,
   "metadata": {
    "collapsed": false
   },
   "outputs": [
    {
     "data": {
      "text/plain": [
       "10.8"
      ]
     },
     "execution_count": 12,
     "metadata": {},
     "output_type": "execute_result"
    }
   ],
   "source": [
    "def make_average():\n",
    "    count = 0\n",
    "    total = 0\n",
    "\n",
    "    def averager(new_value):\n",
    "        nonlocal count, total\n",
    "        count += 1\n",
    "        total += new_value\n",
    "        return total / count\n",
    "\n",
    "    return averager\n",
    "avg(10)\n",
    "avg(11)"
   ]
  },
  {
   "cell_type": "markdown",
   "metadata": {},
   "source": [
    "## 标准库中的装饰器   \n",
    "下面介绍一下两个标准库中的装饰器, `functools.lru_cache`和`singledispatch`  \n",
    "\n",
    "### 使用functools.lru_cache 做备忘      \n",
    "\n",
    "`functools.lru_cache`可以用来实现备忘功能,它将耗时的函数的结果保存起来,避免传入相同的参数时重复计算.  \n",
    "LRU即为\"Least Recently Used\", 表示会保存最近的缓存, 一段时间不用后的缓存则会被扔掉.   \n",
    "\n",
    "一个适用的场景是递归函数, 例如斐波那契数列的计算. 计算斐波那契数列时, 假设计算f(n), 我们需要先计算f(n-1)和f(n-2), 递推下去其实有很多项是重复计算的, 使用`lru_cache`就会将中间函数的结算结果缓存, 这样每一项都会只计算一次. \n",
    "具体代码如下:  "
   ]
  },
  {
   "cell_type": "code",
   "execution_count": 13,
   "metadata": {
    "collapsed": true
   },
   "outputs": [],
   "source": [
    "import functools\n",
    "@functools.lru_cache()\n",
    "def fibonacci(n):\n",
    "    if n < 2:\n",
    "        return n\n",
    "    return fibonacci(n - 2) + fibonacci(n - 1)"
   ]
  },
  {
   "cell_type": "markdown",
   "metadata": {},
   "source": [
    "### 单分派泛函数　singledispatch  \n",
    "\n",
    "在写代码时，我们常常会遇到这样的需求，即函数处理的方法根据传入的参数类型不同而有所不同，例如构想一个打印函数传入的如果是：\n",
    "+ 字符串 str 直接打印\n",
    "+ 整数 int 以十六进制打印  \n",
    "+ 日期对象 Date 以'MM-DD in YYYY'的格式打印  \n",
    "\n",
    "python不支持重载函数,而使用一连串的if/else来判断再调用相应的函数又显得太过笨拙了, 此时我们可用`singledispatch`来处理该问题.我们用该装饰器将整体方案拆分成多个模块,并根据不同的参数类型来执行同一组函数. 被装饰的函数叫做泛函数.  "
   ]
  },
  {
   "cell_type": "code",
   "execution_count": 14,
   "metadata": {
    "collapsed": false
   },
   "outputs": [],
   "source": [
    "from functools import singledispatch\n",
    "import numbers\n",
    "import datetime\n",
    "\n",
    "@singledispatch\n",
    "def special_print(obj):\n",
    "    content = obj\n",
    "    return \"打印出来是: {}\".format(content)\n",
    "\n",
    "@special_print.register(numbers.Integral)\n",
    "def _(n):\n",
    "    return \"{0} (0x{0:x})\".format(n)\n",
    "\n",
    "@special_print.register(datetime.date)\n",
    "def _(date):\n",
    "    return date.strftime('%m-%d in %Y')"
   ]
  },
  {
   "cell_type": "code",
   "execution_count": 15,
   "metadata": {
    "collapsed": false
   },
   "outputs": [
    {
     "data": {
      "text/plain": [
       "'打印出来是: 哈哈哈啊'"
      ]
     },
     "execution_count": 15,
     "metadata": {},
     "output_type": "execute_result"
    }
   ],
   "source": [
    "# 字符串 按照默认的分派\n",
    "special_print('哈哈哈啊')"
   ]
  },
  {
   "cell_type": "code",
   "execution_count": 16,
   "metadata": {
    "collapsed": false
   },
   "outputs": [
    {
     "data": {
      "text/plain": [
       "'1024 (0x400)'"
      ]
     },
     "execution_count": 16,
     "metadata": {},
     "output_type": "execute_result"
    }
   ],
   "source": [
    "# 整数 \n",
    "special_print(1024)"
   ]
  },
  {
   "cell_type": "code",
   "execution_count": 17,
   "metadata": {
    "collapsed": false
   },
   "outputs": [
    {
     "data": {
      "text/plain": [
       "'11-11 in 2018'"
      ]
     },
     "execution_count": 17,
     "metadata": {},
     "output_type": "execute_result"
    }
   ],
   "source": [
    "# date对象 \n",
    "d = datetime.date(2018, 11, 11)\n",
    "special_print(d)"
   ]
  },
  {
   "cell_type": "code",
   "execution_count": 18,
   "metadata": {
    "collapsed": false
   },
   "outputs": [
    {
     "data": {
      "text/plain": [
       "\"打印出来是: ['1']\""
      ]
     },
     "execution_count": 18,
     "metadata": {},
     "output_type": "execute_result"
    }
   ],
   "source": [
    "# list 以及其他未被注册分派的参数类型都会按照泛函数默认方式执行\n",
    "special_print(['1'])"
   ]
  },
  {
   "cell_type": "markdown",
   "metadata": {},
   "source": [
    "值得提一句的是, 这里的装饰器是可以叠放的, 如上例中, 我们要以处理整数的方式同样处理浮点数, 则可以在函数上叠放两个装饰器.  \n",
    "将`@d1`, `@d2`两个装饰器按顺序应用到`f`上,作用相当于 `f=d1(d2(f))`  \n",
    "\n",
    "## 参数化装饰器  \n",
    "\n",
    "有时我们需要给装饰器传入某个参数, 此时则先创建一个装饰器工厂函数, 将参数传给它再返回一个装饰器. \n",
    "举例说明:  "
   ]
  },
  {
   "cell_type": "code",
   "execution_count": 19,
   "metadata": {
    "collapsed": false
   },
   "outputs": [
    {
     "name": "stdout",
     "output_type": "stream",
     "text": [
      "running register(active=False)->decorate(<function f1 at 0x7f803e7dd950>)\n",
      "running register(active=True)->decorate(<function f2 at 0x7f803e7ddbf8>)\n"
     ]
    }
   ],
   "source": [
    "registry = set() \n",
    "\n",
    "def register(active=True):  # 装饰器工厂函数  接受一个参数\n",
    "    def decorate(func):  # 真正的装饰器  \n",
    "        print('running register(active=%s)->decorate(%s)'\n",
    "              % (active, func))\n",
    "        if active:   # 为真时加入registry  \n",
    "            registry.add(func)\n",
    "        else:\n",
    "            registry.discard(func)  # 否则删除  \n",
    "\n",
    "        return func  # 返回函数 \n",
    "    return decorate  # 返回装饰器\n",
    "\n",
    "@register(active=False)  # \n",
    "def f1():\n",
    "    print('running f1()')\n",
    "\n",
    "@register()  \n",
    "def f2():\n",
    "    print('running f2()')\n",
    "\n",
    "def f3():\n",
    "    print('running f3()')"
   ]
  },
  {
   "cell_type": "code",
   "execution_count": 20,
   "metadata": {
    "collapsed": false
   },
   "outputs": [
    {
     "name": "stdout",
     "output_type": "stream",
     "text": [
      "running f1()\n"
     ]
    },
    {
     "data": {
      "text/plain": [
       "{<function __main__.f2>}"
      ]
     },
     "execution_count": 20,
     "metadata": {},
     "output_type": "execute_result"
    }
   ],
   "source": [
    "# 运行f1 程序不会将f1加入registry,因为active为False\n",
    "f1()\n",
    "registry"
   ]
  },
  {
   "cell_type": "code",
   "execution_count": 21,
   "metadata": {
    "collapsed": false
   },
   "outputs": [
    {
     "name": "stdout",
     "output_type": "stream",
     "text": [
      "running f2()\n"
     ]
    },
    {
     "data": {
      "text/plain": [
       "<function __main__.register>"
      ]
     },
     "execution_count": 21,
     "metadata": {},
     "output_type": "execute_result"
    }
   ],
   "source": [
    "f2()\n",
    "register"
   ]
  },
  {
   "cell_type": "code",
   "execution_count": null,
   "metadata": {
    "collapsed": true
   },
   "outputs": [],
   "source": []
  }
 ],
 "metadata": {
  "anaconda-cloud": {},
  "kernelspec": {
   "display_name": "Python [conda root]",
   "language": "python",
   "name": "conda-root-py"
  },
  "language_info": {
   "codemirror_mode": {
    "name": "ipython",
    "version": 3
   },
   "file_extension": ".py",
   "mimetype": "text/x-python",
   "name": "python",
   "nbconvert_exporter": "python",
   "pygments_lexer": "ipython3",
   "version": "3.5.2"
  }
 },
 "nbformat": 4,
 "nbformat_minor": 1
}
