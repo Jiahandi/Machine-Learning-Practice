{
 "cells": [
  {
   "cell_type": "markdown",
   "metadata": {},
   "source": [
    "# 可迭代的对象，迭代器和生成器   \n",
    "python中所有生成器都是迭代器，不过不同在于迭代器用于从集合中取出元素，而生成器用于“凭空”生成元素。 本章就来探讨以下迭代，迭代器和生成器。  \n",
    "\n",
    "## 可迭代对象  \n",
    "\n",
    "但解释器需要迭代对象`x`时，会自动调用`iter(x)`，其机制依次如下：  \n",
    "\n",
    "1. 检测对象是否实现`__iter__`，是则调用它返回迭代器。 \n",
    "2. 检查对象是否实现了`__getitem__`，是Python会创建一个迭代器，尝试按照顺序获取元素。\n",
    "3. 如果尝试失败，Python会抛出`TypeError`，显示对象不可迭代。   \n",
    "\n",
    "因此Python中所有序列都可以迭代的原因就是它们都实现了`__getitem___`方法。   \n",
    "\n",
    "### 可迭代对象和迭代器对比  \n",
    "\n",
    "可迭代对象指的是：使用`iter`内置函数可以获取迭代器的对象。如果对象实现了能返回迭代器的`__iter__`方法，那么他就是可迭代的；同时如果实现了`__getitem__`方法且参数从零开始的索引，这种对象也可以迭代。  \n",
    "下面我们用`while`语句来演示一下迭代过程： "
   ]
  },
  {
   "cell_type": "code",
   "execution_count": 1,
   "metadata": {},
   "outputs": [
    {
     "name": "stdout",
     "output_type": "stream",
     "text": [
      "A\n",
      "B\n",
      "C\n"
     ]
    }
   ],
   "source": [
    "s = 'ABC' # 可迭代对象 \n",
    "it = iter(s) # 迭代器  \n",
    "while True:\n",
    "    try:\n",
    "        print(next(it)) # 不断在迭代器上使用next函数，获取下一元素\n",
    "    except StopIteration:\n",
    "        del it # 释放迭代器对象\n",
    "        break  \n"
   ]
  },
  {
   "cell_type": "markdown",
   "metadata": {},
   "source": [
    "标准迭代器有两个方法:  \n",
    "+ `__next__` 返回下一个可用元素，如果没有则抛出`StopIteration`  \n",
    "+ `__iter__` 返回`self`，以便在应该使用可迭代对象的地方使用迭代器，例如`for`循环   \n",
    "\n",
    "ps 熟悉C++的同学应该对这里很熟悉了。  \n",
    "\n",
    "这里需要注意的是，**可迭代对象的`__iter__`返回的是迭代器，迭代器的`__iter__`返回的是本身**。  \n",
    "因此我们在构建可迭代对象和迭代器时要注意二者的区别。  \n",
    "\n",
    "## 典型迭代器示例 \n",
    "下面给出一个典型的迭代器示例：  "
   ]
  },
  {
   "cell_type": "code",
   "execution_count": 2,
   "metadata": {
    "collapsed": true
   },
   "outputs": [],
   "source": [
    "import re\n",
    "import reprlib\n",
    "\n",
    "RE_WORD = re.compile('\\w+')\n",
    "\n",
    "# 可迭代对象 \n",
    "class Sentence:\n",
    "\n",
    "    def __init__(self, text):\n",
    "        self.text = text\n",
    "        self.words = RE_WORD.findall(text)\n",
    "\n",
    "    def __repr__(self):\n",
    "        return 'Sentence(%s)' % reprlib.repr(self.text)\n",
    "\n",
    "    def __iter__(self):  \n",
    "        return SentenceIterator(self.words)  # 实例化并返回一个迭代器 \n",
    "\n",
    "# 迭代器 \n",
    "class SentenceIterator:\n",
    "\n",
    "    def __init__(self, words):\n",
    "        self.words = words  \n",
    "        self.index = 0  \n",
    "\n",
    "    def __next__(self):\n",
    "        try:\n",
    "            word = self.words[self.index]  # 获取下个元素\n",
    "        except IndexError:\n",
    "            raise StopIteration()  # 没有剩余元素\n",
    "        self.index += 1  \n",
    "        return word  \n",
    "\n",
    "    def __iter__(self):  \n",
    "        return self"
   ]
  },
  {
   "cell_type": "code",
   "execution_count": 5,
   "metadata": {},
   "outputs": [
    {
     "name": "stdout",
     "output_type": "stream",
     "text": [
      "Hi\n",
      "I\n",
      "am\n",
      "Gaoshan\n",
      "Nice\n",
      "to\n",
      "meet\n",
      "you\n"
     ]
    }
   ],
   "source": [
    "s = Sentence('Hi, I am Gaoshan. Nice to meet you.')\n",
    "for i in s:\n",
    "    print(i)"
   ]
  },
  {
   "cell_type": "markdown",
   "metadata": {},
   "source": [
    "注意上述示例中迭代器和可迭代对象的区别，在设计模型中，迭代器模式常用来：   \n",
    "+ 访问一个聚合对象的内容而无需暴露它的内部表示  \n",
    "+ 支持对聚合对象的多种遍历  \n",
    "+ 为遍历不同的聚合结构提供一个统一的接口（多态迭代）  \n",
    "\n",
    "当然更加符合Python风格的习惯是实现一个生成器函数。  \n",
    "\n",
    "## 生成器函数   \n",
    "\n",
    "下面的代码给出了生成器函数的一个示例：  "
   ]
  },
  {
   "cell_type": "code",
   "execution_count": 6,
   "metadata": {
    "collapsed": true
   },
   "outputs": [],
   "source": [
    "RE_WORD = re.compile('\\w+')\n",
    "\n",
    "\n",
    "class Sentence:\n",
    "\n",
    "    def __init__(self, text):\n",
    "        self.text = text\n",
    "        self.words = RE_WORD.findall(text)\n",
    "\n",
    "    def __repr__(self):\n",
    "        return 'Sentence(%s)' % reprlib.repr(self.text)\n",
    "\n",
    "    def __iter__(self):\n",
    "        for word in self.words:  \n",
    "            yield word  # 生成word\n",
    "        return  # 该句不是必要的，生成器不会抛出StopIteraction异常，而是在生成全部值后直接退出  \n"
   ]
  },
  {
   "cell_type": "code",
   "execution_count": 7,
   "metadata": {},
   "outputs": [
    {
     "name": "stdout",
     "output_type": "stream",
     "text": [
      "How\n",
      "you\n",
      "doing\n"
     ]
    }
   ],
   "source": [
    "s = Sentence('How you doing~')\n",
    "for i in s:\n",
    "    print(i)"
   ]
  },
  {
   "cell_type": "markdown",
   "metadata": {},
   "source": [
    "只要**函数定义体中有`yield`关键字**，该函数就是生成器函数。调用生成器函数时，会返回一个生成器对象，即生成器函数是生成器工厂。  \n",
    "下面以一个简单的例子来说明生成器的行为：  \n"
   ]
  },
  {
   "cell_type": "code",
   "execution_count": 8,
   "metadata": {
    "collapsed": true
   },
   "outputs": [],
   "source": [
    "# 一个简单的的生成器函数\n",
    "def gen_123():\n",
    "    yield 1\n",
    "    yield 2\n",
    "    yield 3"
   ]
  },
  {
   "cell_type": "code",
   "execution_count": 9,
   "metadata": {},
   "outputs": [
    {
     "data": {
      "text/plain": [
       "<function __main__.gen_123>"
      ]
     },
     "execution_count": 9,
     "metadata": {},
     "output_type": "execute_result"
    }
   ],
   "source": [
    "gen_123 # 一个函数对象"
   ]
  },
  {
   "cell_type": "code",
   "execution_count": 10,
   "metadata": {},
   "outputs": [
    {
     "data": {
      "text/plain": [
       "<generator object gen_123 at 0x000001CDA772F780>"
      ]
     },
     "execution_count": 10,
     "metadata": {},
     "output_type": "execute_result"
    }
   ],
   "source": [
    "gen_123() # 调用它会返回一个生成器 "
   ]
  },
  {
   "cell_type": "code",
   "execution_count": 11,
   "metadata": {},
   "outputs": [
    {
     "data": {
      "text/plain": [
       "1"
      ]
     },
     "execution_count": 11,
     "metadata": {},
     "output_type": "execute_result"
    }
   ],
   "source": [
    "g = gen_123()\n",
    "next(g)"
   ]
  },
  {
   "cell_type": "code",
   "execution_count": 12,
   "metadata": {},
   "outputs": [
    {
     "data": {
      "text/plain": [
       "2"
      ]
     },
     "execution_count": 12,
     "metadata": {},
     "output_type": "execute_result"
    }
   ],
   "source": [
    "next(g)"
   ]
  },
  {
   "cell_type": "code",
   "execution_count": 13,
   "metadata": {},
   "outputs": [
    {
     "data": {
      "text/plain": [
       "3"
      ]
     },
     "execution_count": 13,
     "metadata": {},
     "output_type": "execute_result"
    }
   ],
   "source": [
    "next(g)"
   ]
  },
  {
   "cell_type": "code",
   "execution_count": 14,
   "metadata": {},
   "outputs": [
    {
     "ename": "StopIteration",
     "evalue": "",
     "output_type": "error",
     "traceback": [
      "\u001b[1;31m---------------------------------------------------------------------------\u001b[0m",
      "\u001b[1;31mStopIteration\u001b[0m                             Traceback (most recent call last)",
      "\u001b[1;32m<ipython-input-14-5f315c5de15b>\u001b[0m in \u001b[0;36m<module>\u001b[1;34m()\u001b[0m\n\u001b[1;32m----> 1\u001b[1;33m \u001b[0mnext\u001b[0m\u001b[1;33m(\u001b[0m\u001b[0mg\u001b[0m\u001b[1;33m)\u001b[0m\u001b[1;33m\u001b[0m\u001b[0m\n\u001b[0m",
      "\u001b[1;31mStopIteration\u001b[0m: "
     ]
    }
   ],
   "source": [
    "next(g)"
   ]
  },
  {
   "cell_type": "markdown",
   "metadata": {},
   "source": [
    "上面的例子我们生成器函数构建了一个生成器，将其传给`next`函数，接着生成器函数会向前执行，返回产出值，超出生成器函数定义体时会抛出`StopIteration`异常。  \n",
    "下面示例其在for循环中的表现： \n"
   ]
  },
  {
   "cell_type": "code",
   "execution_count": 15,
   "metadata": {},
   "outputs": [
    {
     "name": "stdout",
     "output_type": "stream",
     "text": [
      "start\n",
      "--> A\n",
      "continue\n",
      "--> B\n",
      "end\n"
     ]
    }
   ],
   "source": [
    "def gen_AB():\n",
    "    print('start')\n",
    "    yield 'A'\n",
    "    print('continue')\n",
    "    yield 'B'\n",
    "    print('end')\n",
    "for c in gen_AB():\n",
    "    print('-->', c)"
   ]
  },
  {
   "cell_type": "markdown",
   "metadata": {},
   "source": [
    "## 惰性实现   \n",
    "\n",
    "所谓惰性实现，即每次生成一个元素。惰性求值（lazy evaluation）是一个编程语言上一个常用的术语。  \n",
    "\n",
    "之前实现的几个类都不具有惰性，因为在`__init__`中就急迫都构建好的文本中所有单词列表，这样内存里就需要保存所有单词信息，当数据量特别大或者我们只需要迭代前几个元素时，这么做就不合时宜了。   \n",
    "\n",
    "下面利用`re.finditer`（`re.findall`的惰性版本）来展示前面例子的惰性实现：  \n"
   ]
  },
  {
   "cell_type": "code",
   "execution_count": 16,
   "metadata": {
    "collapsed": true
   },
   "outputs": [],
   "source": [
    "class Sentence:\n",
    "\n",
    "    def __init__(self, text):\n",
    "        self.text = text  # 这里我们不需要在初始时构建word列表\n",
    "\n",
    "    def __repr__(self):\n",
    "        return 'Sentence(%s)' % reprlib.repr(self.text)\n",
    "\n",
    "    def __iter__(self):\n",
    "        for match in RE_WORD.finditer(self.text):  # 惰性生成匹配的对象\n",
    "            yield match.group()  # 提取匹配对象的具体文本  "
   ]
  },
  {
   "cell_type": "markdown",
   "metadata": {},
   "source": [
    "## 生成器表达式   \n",
    "\n",
    "生成器表达式可以理解为列表推导的惰性版本，它不会马上构建列表，而是返回一个生成器。  "
   ]
  },
  {
   "cell_type": "code",
   "execution_count": 17,
   "metadata": {},
   "outputs": [
    {
     "name": "stdout",
     "output_type": "stream",
     "text": [
      "start\n",
      "continue\n",
      "end\n"
     ]
    }
   ],
   "source": [
    "def gen_AB():\n",
    "    print('start')\n",
    "    yield 'A'\n",
    "    print('continue')\n",
    "    yield 'B'\n",
    "    print('end')\n",
    "# 列表推导\n",
    "res1 = [x*3 for x in gen_AB()]\n"
   ]
  },
  {
   "cell_type": "code",
   "execution_count": 18,
   "metadata": {},
   "outputs": [
    {
     "name": "stdout",
     "output_type": "stream",
     "text": [
      "--> AAA\n",
      "--> BBB\n"
     ]
    }
   ],
   "source": [
    "for i in res1:\n",
    "    print('-->', i)"
   ]
  },
  {
   "cell_type": "code",
   "execution_count": 20,
   "metadata": {
    "collapsed": true
   },
   "outputs": [],
   "source": [
    "# 生成器表达式， 注意这里的惰性（没有输出start等信息  ）\n",
    "res2 = (x*3 for x in gen_AB())"
   ]
  },
  {
   "cell_type": "code",
   "execution_count": 21,
   "metadata": {},
   "outputs": [
    {
     "data": {
      "text/plain": [
       "<generator object <genexpr> at 0x000001CDA77B9678>"
      ]
     },
     "execution_count": 21,
     "metadata": {},
     "output_type": "execute_result"
    }
   ],
   "source": [
    "res2 # 得到一个生成器 "
   ]
  },
  {
   "cell_type": "code",
   "execution_count": 22,
   "metadata": {},
   "outputs": [
    {
     "name": "stdout",
     "output_type": "stream",
     "text": [
      "start\n",
      "--> AAA\n",
      "continue\n",
      "--> BBB\n",
      "end\n"
     ]
    }
   ],
   "source": [
    "for i in res2:\n",
    "    print('-->', i)"
   ]
  },
  {
   "cell_type": "markdown",
   "metadata": {},
   "source": [
    "注意这里生成器表达式和列表推导的不同。   \n",
    "那么我们也可以用生成器表达式来重写这个类：  "
   ]
  },
  {
   "cell_type": "code",
   "execution_count": 23,
   "metadata": {
    "collapsed": true
   },
   "outputs": [],
   "source": [
    "class Sentence:\n",
    "\n",
    "    def __init__(self, text):\n",
    "        self.text = text \n",
    "\n",
    "    def __repr__(self):\n",
    "        return 'Sentence(%s)' % reprlib.repr(self.text)\n",
    "\n",
    "    def __iter__(self):\n",
    "        return (match.group() for match in RE_WORD.finditer(self.text))"
   ]
  },
  {
   "cell_type": "markdown",
   "metadata": {},
   "source": [
    "## 标准库中的生成器函数   \n",
    "\n",
    "下面列出一些标准库中的常见生成器函数：    \n",
    "\n",
    "### 用于过滤的生成器函数  \n",
    "\n",
    "|模块  | 函数 | 说明| \n",
    "|--|--|:--| \n",
    "|itertools | compress(it, selector_it)| 并行处理两个可迭代的对象；如果 selector_it 中的元素是真值， 产出 it 中对应的元素| \n",
    "|itertools | dropwhile(predicate, it)|处理 it，跳过 predicate 的计算结果为真值的元素，然后产出剩下 的各个元素（不再进一步检查）|\n",
    "|（内置）| filter(predicate, it)| 把 it 中的各个元素传给 predicate，如果 predicate(item) 返回真 值，那么产出对应的元素；如果 predicate 是 None，那么只产出真 值元素|\n",
    "|itertools | filterfalse(predicate, it)| 与 filter 函数的作用类似，不过 predicate 的逻辑是相反 的：predicate 返回假值时产出对应的元素|\n",
    "|itertools| islice(it, stop) 或 islice(it, start, stop, step=1)| 产出 it 的切片，作用类似于 s[:stop] 或 s[start:stop:step]，不过 it 可以是任何可迭代的对象，而且这个函数实现的是惰性操作|\n",
    "|itertools | takewhile(predicate, it)| predicate 返回真值时产出对应的元素，然后立即停止，不再继续|  \n",
    "\n",
    "\n",
    "\n",
    "### 用于映射的生成器函数   \n",
    "\n",
    "|模块  | 函数 | 说明| \n",
    "|--|--|:--| \n",
    "|itertools | accumulate(it, [func])|产出累积的总和；如果提供了 func，那么把前两个元素传给它，然后把 计算结果和下一个元素传给它，以此类推，最后产出结果|\n",
    "|（内置）| enumerate(iterable, start=0)|产出由两个元素组成的元组，结构是 (index, item)，其中 index 从 start 开始计数，item 则从 iterable 中获取|\n",
    "|（内置）| map(func, it1, [it2, ..., itN])|把 it 中的各个元素传给func，产出结果；如果传入 N 个可迭代的对象， 那么 func 必须能接受 N 个参数，而且要并行处理各个可迭代的对象|\n",
    "|itertools |starmap(func, it)|把 it 中的各个元素传给 func，产出结果；输入的可迭代对象应该产出可 迭代的元素 iit，然后以 func(\\*iit) 这种形式调用 func|\n",
    "\n",
    "### 用于合并多个对象的生成器函数  \n",
    "\n",
    "|模块  | 函数 | 说明| \n",
    "|--|--|:--| \n",
    "|itertools | chain(it1, ..., itN)|先产出 it1 中的所有元素，然后产出 it2 中的所有元素，以此类推， 无缝连接在一起|\n",
    "|itertools |chain.from_iterable(it) |产出 it 生成的各个可迭代对象中的元素，一个接一个，无缝连接在 一起；it 应该产出可迭代的元素，例如可迭代的对象列表| \n",
    "|itertools |product(it1, ..., itN, repeat=1) |计算笛卡儿积：从输入的各个可迭代对象中获取元素，合并成由 N 个元素组成的元组，与嵌套的 for 循环效果一样；repeat 指明重复 处理多少次输入的可迭代对象| \n",
    "|（内置）| zip(it1, ..., itN) |并行从输入的各个可迭代对象中获取元素，产出由 N 个元素组成的 元组，只要有一个可迭代的对象到头了，就默默地停止 | \n",
    "|itertools| zip_longest(it1, ..., itN, fillvalue=None) |并行从输入的各个可迭代对象中获取元素，产出由 N 个元素组成的 元组，等到最长的可迭代对象到头后才停止，空缺的值使用 fillvalue 填充|  \n",
    "\n",
    "### 把输入的各个元素拓展成多个输出的生成器函数  \n",
    "|模块  | 函数 | 说明| \n",
    "|--|--|:--| \n",
    "|itertools |combinations(it, out_len)| 把 it 产出的 out_len 个元素组合在一起，然后产出|\n",
    "|itertools |combinations_with_replacement(it, out_len) |把 it 产出的 out_len 个元素组合在一起，然后产出，包 含相同元素的组合|\n",
    "|itertools | count(start=0, step=1) |从 start 开始不断产出数字，按 step 指定的步幅增加|\n",
    "|itertools | cycle(it) |从 it 中产出各个元素，存储各个元素的副本，然后按顺 序重复不断地产出各个元素|\n",
    "|itertools | permutations(it, out_len=None) |把 out_len 个 it 产出的元素排列在一起，然后产出这些 排列；out_len 的默认值等于 len(list(it))|\n",
    "|itertools | repeat(item, [times]) | 重复不断地产出指定的元素，除非提供 times，指定次数|\n",
    "\n",
    "### 用于重新排列元素的生成器函数   \n",
    "|模块  | 函数 | 说明| \n",
    "|--|--|:--| \n",
    "|itertools | groupby(it,key=None) |产出由两个元素组成的元素，形式为 (key, group)，其中 key 是分组标 准，group 是生成器，用于产出分组里的元素|\n",
    "|（内置） | reversed(seq) |从后向前，倒序产出 seq 中的元素；seq 必须是序列，或者是实现了 __reversed__ 特殊方法的对象|\n",
    "|itertools |tee(it, n=2) |产出一个由 n 个生成器组成的元组，每个生成器用于单独产出输入的可 迭代对象中的元素|\n",
    "\n",
    "### yield from  \n",
    "`yield from`是`yield`的一个语法糖，下面两种写法是等价的：  "
   ]
  },
  {
   "cell_type": "code",
   "execution_count": 29,
   "metadata": {},
   "outputs": [
    {
     "data": {
      "text/plain": [
       "['A', 'B', 'C', 'D', 'E']"
      ]
     },
     "execution_count": 29,
     "metadata": {},
     "output_type": "execute_result"
    }
   ],
   "source": [
    "def chain(*iterables):\n",
    "    for it in iterables:\n",
    "        for i in it:\n",
    "            yield i\n",
    "list(chain('ABC', 'DE'))"
   ]
  },
  {
   "cell_type": "code",
   "execution_count": 31,
   "metadata": {},
   "outputs": [
    {
     "data": {
      "text/plain": [
       "['A', 'B', 'C', 'D', 'E']"
      ]
     },
     "execution_count": 31,
     "metadata": {},
     "output_type": "execute_result"
    }
   ],
   "source": [
    "def chain(*iterables):\n",
    "    for it in iterables:\n",
    "        yield from it\n",
    "list(chain('ABC', 'DE'))"
   ]
  },
  {
   "cell_type": "markdown",
   "metadata": {},
   "source": [
    "## 可迭代的规约函数   \n",
    "\n",
    "下面的规约函数都可以接受一个可迭代对象并返回单个结果。  \n",
    "理论上来说，所有的规约函数都可以用`reduce`来实现，但是对于例如`any`，`all`这类函数，它们都可以短路（即不用完全遍历完可迭代对象就提前返回），而`reduce`做不到。  \n",
    "\n",
    "|模块  | 函数 | 说明| \n",
    "|--|--|:--| \n",
    "|（内置）| all(it)| it 中的所有元素都为真值时返回 True，否则返回 False；all([]) 返回 True|\n",
    "|（内置）| any(it) |只要 it 中有元素为真值就返回 True，否则返回 False；any([]) 返回 False|\n",
    "|（内置）|max(it, [key=,] [default=]) |返回 it 中值最大的元素；\\*key 是排序函数，与 sorted 函数中的一样；如果可 迭代的对象为空，返回 default|\n",
    "|（内置）|min(it, [key=,] [default=])|返回 it 中值最小的元素；#key 是排序函数，与 sorted 函数中的一样；如果可 迭代的对象为空，返回 default|\n",
    "|functools | reduce(func, it, [initial]) |把前两个元素传给 func，然后把计算结果和第三个元素传给 func，以此类 推，返回最后的结果；如果提供了initial，把它当作第一个元素传入|\n",
    "|（内置）| sum(it, start=0) |it 中所有元素的总和，如果提供可选的 start，会把它加上（计算浮点数的加 法时，可以使用 math.fsum 函数提高精度）|\n",
    "\n",
    "## 深入iter函数  \n",
    "\n",
    "`iter`函数有一个鲜为人知的用法：传入两个参数来创建迭代器，第一个参数是可调用对象，用于产出值；第二个是哨符，当可调用对象返回该值时，触发迭代器抛出`StopIteration`异常而不产出哨符。  \n",
    "\n",
    "例如，我们玩飞行棋时需要一直掷骰子直到6才能出动飞机，下面我们展示一个一直掷骰子直到掷出6的过程。 "
   ]
  },
  {
   "cell_type": "code",
   "execution_count": 34,
   "metadata": {},
   "outputs": [
    {
     "data": {
      "text/plain": [
       "<callable_iterator at 0x1cda774ae48>"
      ]
     },
     "execution_count": 34,
     "metadata": {},
     "output_type": "execute_result"
    }
   ],
   "source": [
    "from random import randint\n",
    "def d6():\n",
    "    return randint(1, 6)\n",
    "d6_iter = iter(d6, 6)\n",
    "d6_iter"
   ]
  },
  {
   "cell_type": "code",
   "execution_count": 35,
   "metadata": {},
   "outputs": [
    {
     "name": "stdout",
     "output_type": "stream",
     "text": [
      "4\n",
      "2\n",
      "1\n",
      "5\n",
      "2\n",
      "3\n",
      "2\n",
      "3\n",
      "3\n",
      "2\n",
      "3\n"
     ]
    }
   ],
   "source": [
    "for roll in d6_iter:\n",
    "    print(roll)"
   ]
  }
 ],
 "metadata": {
  "kernelspec": {
   "display_name": "Python 3",
   "language": "python",
   "name": "python3"
  },
  "language_info": {
   "codemirror_mode": {
    "name": "ipython",
    "version": 3
   },
   "file_extension": ".py",
   "mimetype": "text/x-python",
   "name": "python",
   "nbconvert_exporter": "python",
   "pygments_lexer": "ipython3",
   "version": "3.6.1"
  }
 },
 "nbformat": 4,
 "nbformat_minor": 2
}
