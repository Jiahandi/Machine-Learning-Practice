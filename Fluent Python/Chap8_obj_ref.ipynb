{
 "cells": [
  {
   "cell_type": "markdown",
   "metadata": {},
   "source": [
    "# 对象引用, 可变性和垃圾回收    \n",
    "\n",
    "\n",
    "\n",
    "## 变量   \n",
    "\n",
    "这里首先纠正一个观念, 变量并不是一个存储着值的盒子, 而更像是一个贴在值上的便利贴, 我们假设一个dict存储了关于鲁迅的内容:  "
   ]
  },
  {
   "cell_type": "code",
   "execution_count": 1,
   "metadata": {
    "collapsed": false
   },
   "outputs": [
    {
     "data": {
      "text/plain": [
       "True"
      ]
     },
     "execution_count": 1,
     "metadata": {},
     "output_type": "execute_result"
    }
   ],
   "source": [
    "luxun = {'name': 'zhoushuren', 'penname':'luxun'}\n",
    "zhoushuren = luxun \n",
    "\n",
    "luxun == zhoushuren"
   ]
  },
  {
   "cell_type": "code",
   "execution_count": 2,
   "metadata": {
    "collapsed": false
   },
   "outputs": [
    {
     "data": {
      "text/plain": [
       "(139695789640392, 139695789640392)"
      ]
     },
     "execution_count": 2,
     "metadata": {},
     "output_type": "execute_result"
    }
   ],
   "source": [
    "id(zhoushuren), id(luxun)"
   ]
  },
  {
   "cell_type": "markdown",
   "metadata": {},
   "source": [
    "可以看出, 鲁迅和周树人的值是**相等**的, 且用`id`函数可以看出二者是同一个对象, 这里体现出`luxun`,`zhoushuren`都是别名, 绑定了同一个对象, 对二者之一的修改都会影响到另一个.  "
   ]
  },
  {
   "cell_type": "code",
   "execution_count": 3,
   "metadata": {
    "collapsed": true
   },
   "outputs": [],
   "source": [
    "zhoushuren['publication'] = 'The True Story of Ah Q' "
   ]
  },
  {
   "cell_type": "code",
   "execution_count": 4,
   "metadata": {
    "collapsed": false
   },
   "outputs": [
    {
     "data": {
      "text/plain": [
       "{'name': 'zhoushuren',\n",
       " 'penname': 'luxun',\n",
       " 'publication': 'The True Story of Ah Q'}"
      ]
     },
     "execution_count": 4,
     "metadata": {},
     "output_type": "execute_result"
    }
   ],
   "source": [
    "luxun"
   ]
  },
  {
   "cell_type": "markdown",
   "metadata": {},
   "source": [
    "当然编程中很少用`id`函数, 通常我们用`is`运算符来检查**标识** (可以理解为内存里的地址)是否一致. \n",
    "需要注意的是, 往往我们更专注两个变量的值是否一致, 因此`==`出现的次数比`is`多得多.   \n",
    "\n",
    "### 元组的相对不可变性   \n",
    "\n",
    "我们之前提到过, 元组赋值后是不可变的, 但是如果其中的元素有list, 该`list`是可变的.  \n",
    "此外我们可以通过`+=`操作来更改元组, 但是本质上它不是改变元组的大小而是将原来的对象删除, 赋值给一个新的对象.    \n",
    "如下可以观察到`+=`操作前后, 元组`a`的标识发生了改变. "
   ]
  },
  {
   "cell_type": "code",
   "execution_count": 5,
   "metadata": {
    "collapsed": false
   },
   "outputs": [
    {
     "data": {
      "text/plain": [
       "139695789497656"
      ]
     },
     "execution_count": 5,
     "metadata": {},
     "output_type": "execute_result"
    }
   ],
   "source": [
    "a = (1,2,3)\n",
    "id(a)"
   ]
  },
  {
   "cell_type": "code",
   "execution_count": 6,
   "metadata": {
    "collapsed": false
   },
   "outputs": [],
   "source": [
    "a += (4,5)"
   ]
  },
  {
   "cell_type": "code",
   "execution_count": 7,
   "metadata": {
    "collapsed": false
   },
   "outputs": [
    {
     "data": {
      "text/plain": [
       "(1, 2, 3, 4, 5)"
      ]
     },
     "execution_count": 7,
     "metadata": {},
     "output_type": "execute_result"
    }
   ],
   "source": [
    "a"
   ]
  },
  {
   "cell_type": "code",
   "execution_count": 8,
   "metadata": {
    "collapsed": false
   },
   "outputs": [
    {
     "data": {
      "text/plain": [
       "139695789516672"
      ]
     },
     "execution_count": 8,
     "metadata": {},
     "output_type": "execute_result"
    }
   ],
   "source": [
    "id(a) "
   ]
  },
  {
   "cell_type": "markdown",
   "metadata": {},
   "source": [
    "## 复制  \n",
    "\n",
    "在python中, 对列表等对象的复制默认是做浅复制, 即仅复制最外层容器, 副本中的元素是源容器中的引用.  \n",
    "此时如果所有元素都是不可变的,那么往往不会出问题, 但是如果有可变元素,就会有问题了.  \n"
   ]
  },
  {
   "cell_type": "code",
   "execution_count": 9,
   "metadata": {
    "collapsed": false
   },
   "outputs": [
    {
     "data": {
      "text/plain": [
       "[3, [1, 2, 3], (4, 5, 6)]"
      ]
     },
     "execution_count": 9,
     "metadata": {},
     "output_type": "execute_result"
    }
   ],
   "source": [
    "l1 = [3, [1,2,3], (4,5,6)]  \n",
    "l2 = list(l1)\n",
    "l2"
   ]
  },
  {
   "cell_type": "code",
   "execution_count": 10,
   "metadata": {
    "collapsed": false
   },
   "outputs": [
    {
     "name": "stdout",
     "output_type": "stream",
     "text": [
      "l1 [3, [1, 2, 3], (4, 5, 6), 100] \n",
      "l2 [3, [1, 2, 3], (4, 5, 6)]\n"
     ]
    }
   ],
   "source": [
    "l1.append(100)\n",
    "print('l1', l1,'\\nl2', l2)"
   ]
  },
  {
   "cell_type": "code",
   "execution_count": 11,
   "metadata": {
    "collapsed": false
   },
   "outputs": [
    {
     "name": "stdout",
     "output_type": "stream",
     "text": [
      "l1 [3, [1, 3], (4, 5, 6), 100] \n",
      "l2 [3, [1, 3], (4, 5, 6)]\n"
     ]
    }
   ],
   "source": [
    "l1[1].remove(2)\n",
    "print('l1', l1,'\\nl2', l2)"
   ]
  },
  {
   "cell_type": "code",
   "execution_count": 12,
   "metadata": {
    "collapsed": false
   },
   "outputs": [
    {
     "name": "stdout",
     "output_type": "stream",
     "text": [
      "l1 [3, [1, 3, 33, 22], (4, 5, 6), 100] \n",
      "l2 [3, [1, 3, 33, 22], (4, 5, 6, 30, 20)]\n"
     ]
    }
   ],
   "source": [
    "l2[1] += [33, 22]\n",
    "l2[2] += (30, 20)\n",
    "print('l1', l1,'\\nl2', l2)"
   ]
  },
  {
   "cell_type": "markdown",
   "metadata": {},
   "source": [
    "从上面可以看出, 我们对`l1`的最外层容器做修改(`append(100)`)并不会影响到`l2`, 但是用于是做浅复制, 因此容器中可变元素这里也就是初始为`[1,2,3]`的列表是同一个引用. 因此在`l1`中修改该列表(`remove(2), +=[33,22]`)也会影响到`l2`.   \n",
    "\n",
    "需要注意, 这里的对`tuple`操作显示出`l2`和`l1`中的元组不是一个对象.    \n",
    "\n",
    "有时我们需要对任意对象做深度复制,即所有元素都不共享内部对象的引用而是复制其值.  此时我们需要用到`copy`模块的`deepcopy`函数:  "
   ]
  },
  {
   "cell_type": "code",
   "execution_count": 13,
   "metadata": {
    "collapsed": false
   },
   "outputs": [
    {
     "name": "stdout",
     "output_type": "stream",
     "text": [
      "l1 [3, [1, 2, 3], (4, 5, 6)] \n",
      "l2 [3, [1, 2, 3], (4, 5, 6)]\n"
     ]
    }
   ],
   "source": [
    "from copy import deepcopy\n",
    "l1 = [3, [1,2,3], (4,5,6)]  \n",
    "l2 = deepcopy(l1)\n",
    "print('l1', l1,'\\nl2', l2)"
   ]
  },
  {
   "cell_type": "code",
   "execution_count": 14,
   "metadata": {
    "collapsed": false
   },
   "outputs": [
    {
     "name": "stdout",
     "output_type": "stream",
     "text": [
      "l1 [3, [1, 3], (4, 5, 6)] \n",
      "l2 [3, [1, 2, 3], (4, 5, 6)]\n"
     ]
    }
   ],
   "source": [
    "l1[1].remove(2)\n",
    "print('l1', l1,'\\nl2', l2)"
   ]
  },
  {
   "cell_type": "markdown",
   "metadata": {},
   "source": [
    "## 函数参数引用   \n",
    "\n",
    "python只支持共享传参, 即函数的各个形式参数获得实参中各个引用的副本, 也就是说形参是实参的别名.  \n",
    "那么当函数收到可变对象作为参数时,它可能会修改该对象, 引发意外的后果.   \n",
    "\n",
    "如下:  "
   ]
  },
  {
   "cell_type": "code",
   "execution_count": 15,
   "metadata": {
    "collapsed": false
   },
   "outputs": [
    {
     "data": {
      "text/plain": [
       "['keke', 'hehe']"
      ]
     },
     "execution_count": 15,
     "metadata": {},
     "output_type": "execute_result"
    }
   ],
   "source": [
    "def change(a):\n",
    "    a.append('haha')  \n",
    "     \n",
    "ps = ['keke', 'hehe']\n",
    "ps"
   ]
  },
  {
   "cell_type": "code",
   "execution_count": 16,
   "metadata": {
    "collapsed": false
   },
   "outputs": [
    {
     "data": {
      "text/plain": [
       "['keke', 'hehe', 'haha']"
      ]
     },
     "execution_count": 16,
     "metadata": {},
     "output_type": "execute_result"
    }
   ],
   "source": [
    "change(ps)\n",
    "ps"
   ]
  },
  {
   "cell_type": "markdown",
   "metadata": {},
   "source": [
    "由此,我们得到的教训就是:  \n",
    "+ 不要用可变类型作为函数的默认值, 例如不要使用空列表`[]`作为函数默认值而使用`None`  \n",
    "+ 谨慎考虑调用方是否期望改变传入的参数   \n",
    "\n",
    "## del和垃圾回收   \n",
    "\n",
    "和直觉不同的是, python中的del并不会直接删除对象, 它只是删除一个名称. 当del删除一个名称时, 该名称绑定的对象的引用计数就会减一, 当引用计数为零时, python的垃圾回收会自动删除该对象.   \n",
    "\n",
    "除了我们常见的引用, 还有一类特殊的弱引用, `weakref.ref`, 这类引用不会增加对象的引用计数, 因此常被用于缓存应用中.  "
   ]
  }
 ],
 "metadata": {
  "anaconda-cloud": {},
  "kernelspec": {
   "display_name": "Python [conda root]",
   "language": "python",
   "name": "conda-root-py"
  },
  "language_info": {
   "codemirror_mode": {
    "name": "ipython",
    "version": 3
   },
   "file_extension": ".py",
   "mimetype": "text/x-python",
   "name": "python",
   "nbconvert_exporter": "python",
   "pygments_lexer": "ipython3",
   "version": "3.5.2"
  }
 },
 "nbformat": 4,
 "nbformat_minor": 1
}
