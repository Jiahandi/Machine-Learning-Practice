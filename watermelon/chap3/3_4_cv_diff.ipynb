{
 "cells": [
  {
   "cell_type": "markdown",
   "metadata": {},
   "source": [
    "首先import包和载入数据，我们这里用了IRIS的数据集，是一个3分类问题，四维连续特征值，150个样本，每类50个样本。"
   ]
  },
  {
   "cell_type": "code",
   "execution_count": 15,
   "metadata": {
    "collapsed": false
   },
   "outputs": [
    {
     "name": "stdout",
     "output_type": "stream",
     "text": [
      "['setosa' 'versicolor' 'virginica']\n"
     ]
    }
   ],
   "source": [
    "import numpy as np\n",
    "\n",
    "from sklearn.datasets import load_iris\n",
    "from sklearn.preprocessing import  StandardScaler\n",
    "from sklearn.linear_model import LogisticRegression \n",
    "from sklearn.model_selection import cross_val_score\n",
    "iris = load_iris()\n",
    "print(iris.data.shape)\n",
    "print(iris.target_names)"
   ]
  },
  {
   "cell_type": "markdown",
   "metadata": {},
   "source": [
    "然后我们使用默认超参数的LR模型，算两个CV的分数，分别是`score1`对应的十折交叉验证和`score2`对应的留一法，需要注意的是，这里sklearn要求子集中包含至少每类一个样本，所以这里`cv`数不能直接取样本数。  \n",
    "打印出结果可以看出二者数值很相似，留一法稍高一些。"
   ]
  },
  {
   "cell_type": "code",
   "execution_count": 22,
   "metadata": {
    "collapsed": false
   },
   "outputs": [
    {
     "name": "stdout",
     "output_type": "stream",
     "text": [
      "10-fold CV :0.953333333333\n",
      " 1-hold CV :0.96\n"
     ]
    }
   ],
   "source": [
    "lr = LogisticRegression()\n",
    "score1 = cross_val_score(lr, iris.data, iris.target, cv=10)\n",
    "score2 = cross_val_score(lr, iris.data, iris.target, cv=int(iris.data.shape[0]/len(iris.target_names)))\n",
    "print('10-fold CV :%s\\n 1-hold CV :%s'%(score1.mean(), score2.mean()))"
   ]
  }
 ],
 "metadata": {
  "anaconda-cloud": {},
  "kernelspec": {
   "display_name": "Python [conda root]",
   "language": "python",
   "name": "conda-root-py"
  },
  "language_info": {
   "codemirror_mode": {
    "name": "ipython",
    "version": 3
   },
   "file_extension": ".py",
   "mimetype": "text/x-python",
   "name": "python",
   "nbconvert_exporter": "python",
   "pygments_lexer": "ipython3",
   "version": "3.5.2"
  }
 },
 "nbformat": 4,
 "nbformat_minor": 1
}
